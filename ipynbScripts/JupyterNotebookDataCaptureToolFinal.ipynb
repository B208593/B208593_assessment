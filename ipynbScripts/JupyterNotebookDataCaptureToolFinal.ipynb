{
 "cells": [
  {
   "cell_type": "markdown",
   "id": "dynamic-chester",
   "metadata": {},
   "source": [
    "# Title: Collecting data using interactive Jupyter widgets  \n",
    "**Author details:** *Author:* B208593  "
   ]
  },
  {
   "cell_type": "markdown",
   "id": "absolute-contemporary",
   "metadata": {},
   "source": [
    "# Data\n",
    "The data are from the NHSRdatasets package: the NHS England accident and emergency (A&E) attendances and admissions (`ae_attendances`) data.  A subset of the variables was selected using R for this data capture tool, including period, organisation code, attendances, breaches and performance. "
   ]
  },
  {
   "cell_type": "code",
   "execution_count": 1,
   "id": "flexible-natural",
   "metadata": {},
   "outputs": [
    {
     "data": {
      "text/html": [
       "<div>\n",
       "<style scoped>\n",
       "    .dataframe tbody tr th:only-of-type {\n",
       "        vertical-align: middle;\n",
       "    }\n",
       "\n",
       "    .dataframe tbody tr th {\n",
       "        vertical-align: top;\n",
       "    }\n",
       "\n",
       "    .dataframe thead th {\n",
       "        text-align: right;\n",
       "    }\n",
       "</style>\n",
       "<table border=\"1\" class=\"dataframe\">\n",
       "  <thead>\n",
       "    <tr style=\"text-align: right;\">\n",
       "      <th></th>\n",
       "      <th>index</th>\n",
       "      <th>period</th>\n",
       "      <th>org_code</th>\n",
       "      <th>attendances</th>\n",
       "      <th>breaches</th>\n",
       "      <th>performance</th>\n",
       "    </tr>\n",
       "  </thead>\n",
       "  <tbody>\n",
       "    <tr>\n",
       "      <th>0</th>\n",
       "      <td>2826</td>\n",
       "      <td>2016-07-01</td>\n",
       "      <td>RGT</td>\n",
       "      <td>10081</td>\n",
       "      <td>2288</td>\n",
       "      <td>0.77</td>\n",
       "    </tr>\n",
       "    <tr>\n",
       "      <th>1</th>\n",
       "      <td>2865</td>\n",
       "      <td>2016-07-01</td>\n",
       "      <td>RM1</td>\n",
       "      <td>10303</td>\n",
       "      <td>1080</td>\n",
       "      <td>0.90</td>\n",
       "    </tr>\n",
       "    <tr>\n",
       "      <th>2</th>\n",
       "      <td>3941</td>\n",
       "      <td>2016-04-01</td>\n",
       "      <td>RRK</td>\n",
       "      <td>9044</td>\n",
       "      <td>1195</td>\n",
       "      <td>0.87</td>\n",
       "    </tr>\n",
       "    <tr>\n",
       "      <th>3</th>\n",
       "      <td>5431</td>\n",
       "      <td>2017-12-01</td>\n",
       "      <td>RJN</td>\n",
       "      <td>4238</td>\n",
       "      <td>1208</td>\n",
       "      <td>0.71</td>\n",
       "    </tr>\n",
       "    <tr>\n",
       "      <th>4</th>\n",
       "      <td>5940</td>\n",
       "      <td>2017-11-01</td>\n",
       "      <td>RNZ</td>\n",
       "      <td>3940</td>\n",
       "      <td>209</td>\n",
       "      <td>0.95</td>\n",
       "    </tr>\n",
       "    <tr>\n",
       "      <th>5</th>\n",
       "      <td>6727</td>\n",
       "      <td>2017-08-01</td>\n",
       "      <td>RQ3</td>\n",
       "      <td>3801</td>\n",
       "      <td>86</td>\n",
       "      <td>0.98</td>\n",
       "    </tr>\n",
       "    <tr>\n",
       "      <th>6</th>\n",
       "      <td>7952</td>\n",
       "      <td>2017-05-01</td>\n",
       "      <td>RBL</td>\n",
       "      <td>8270</td>\n",
       "      <td>2120</td>\n",
       "      <td>0.74</td>\n",
       "    </tr>\n",
       "    <tr>\n",
       "      <th>7</th>\n",
       "      <td>8427</td>\n",
       "      <td>2019-03-01</td>\n",
       "      <td>R1K</td>\n",
       "      <td>12753</td>\n",
       "      <td>3178</td>\n",
       "      <td>0.75</td>\n",
       "    </tr>\n",
       "    <tr>\n",
       "      <th>8</th>\n",
       "      <td>10489</td>\n",
       "      <td>2018-10-01</td>\n",
       "      <td>RPA</td>\n",
       "      <td>7710</td>\n",
       "      <td>1750</td>\n",
       "      <td>0.77</td>\n",
       "    </tr>\n",
       "    <tr>\n",
       "      <th>9</th>\n",
       "      <td>12390</td>\n",
       "      <td>2018-05-01</td>\n",
       "      <td>RA3</td>\n",
       "      <td>4390</td>\n",
       "      <td>348</td>\n",
       "      <td>0.92</td>\n",
       "    </tr>\n",
       "    <tr>\n",
       "      <th>10</th>\n",
       "      <td>12463</td>\n",
       "      <td>2018-04-01</td>\n",
       "      <td>RDE</td>\n",
       "      <td>7942</td>\n",
       "      <td>523</td>\n",
       "      <td>0.93</td>\n",
       "    </tr>\n",
       "  </tbody>\n",
       "</table>\n",
       "</div>"
      ],
      "text/plain": [
       "    index      period org_code  attendances  breaches  performance\n",
       "0    2826  2016-07-01      RGT        10081      2288         0.77\n",
       "1    2865  2016-07-01      RM1        10303      1080         0.90\n",
       "2    3941  2016-04-01      RRK         9044      1195         0.87\n",
       "3    5431  2017-12-01      RJN         4238      1208         0.71\n",
       "4    5940  2017-11-01      RNZ         3940       209         0.95\n",
       "5    6727  2017-08-01      RQ3         3801        86         0.98\n",
       "6    7952  2017-05-01      RBL         8270      2120         0.74\n",
       "7    8427  2019-03-01      R1K        12753      3178         0.75\n",
       "8   10489  2018-10-01      RPA         7710      1750         0.77\n",
       "9   12390  2018-05-01      RA3         4390       348         0.92\n",
       "10  12463  2018-04-01      RDE         7942       523         0.93"
      ]
     },
     "execution_count": 1,
     "metadata": {},
     "output_type": "execute_result"
    }
   ],
   "source": [
    "#Load the 'pandas' package\n",
    "import pandas as pd\n",
    "testData=pd.read_csv(\"../Data/ae_type1_performance_test_full.csv\")\n",
    "testData"
   ]
  },
  {
   "cell_type": "code",
   "execution_count": null,
   "id": "going-shame",
   "metadata": {},
   "outputs": [],
   "source": [
    "#Check data types of variables in the data frame \n",
    "result = testData.dtypes\n",
    "print(\"Output:\")\n",
    "print(result)"
   ]
  },
  {
   "cell_type": "code",
   "execution_count": 2,
   "id": "urban-essex",
   "metadata": {},
   "outputs": [
    {
     "data": {
      "text/html": [
       "<div>\n",
       "<style scoped>\n",
       "    .dataframe tbody tr th:only-of-type {\n",
       "        vertical-align: middle;\n",
       "    }\n",
       "\n",
       "    .dataframe tbody tr th {\n",
       "        vertical-align: top;\n",
       "    }\n",
       "\n",
       "    .dataframe thead th {\n",
       "        text-align: right;\n",
       "    }\n",
       "</style>\n",
       "<table border=\"1\" class=\"dataframe\">\n",
       "  <thead>\n",
       "    <tr style=\"text-align: right;\">\n",
       "      <th></th>\n",
       "      <th>index</th>\n",
       "      <th>period</th>\n",
       "      <th>org_code</th>\n",
       "      <th>attendances</th>\n",
       "      <th>breaches</th>\n",
       "      <th>performance</th>\n",
       "      <th>consent</th>\n",
       "    </tr>\n",
       "  </thead>\n",
       "  <tbody>\n",
       "    <tr>\n",
       "      <th>0</th>\n",
       "      <td>0</td>\n",
       "      <td>2000-01-01</td>\n",
       "      <td>NA</td>\n",
       "      <td>0</td>\n",
       "      <td>0</td>\n",
       "      <td>0.0</td>\n",
       "      <td>False</td>\n",
       "    </tr>\n",
       "  </tbody>\n",
       "</table>\n",
       "</div>"
      ],
      "text/plain": [
       "   index     period org_code  attendances  breaches  performance  consent\n",
       "0      0 2000-01-01       NA            0         0          0.0    False"
      ]
     },
     "execution_count": 2,
     "metadata": {},
     "output_type": "execute_result"
    }
   ],
   "source": [
    "#Set up an empty data frame with the selected variables to collect the data captured by the Juypter widgets\n",
    "dfTofill = pd.DataFrame({'index': [0],# Integer\n",
    "                   'period': [pd.Timestamp('20000101')], # Date\n",
    "                   'org_code': ['NA'], # String\n",
    "                   'attendances': [0], # Integer\n",
    "                   'breaches': [0], # Integer\n",
    "                   'performance': [0.0], # Float\n",
    "                   'consent': [False]}) # Boolean \n",
    "\n",
    "dfTofill"
   ]
  },
  {
   "cell_type": "code",
   "execution_count": null,
   "id": "moved-conditions",
   "metadata": {},
   "outputs": [],
   "source": [
    "#Save the empty data frame to the 'Data' folder. Only run once otherwise it will overwrite the data each time we run the code\n",
    "#dfTofill.to_csv('../Data/CollectedData2.csv', index=False)"
   ]
  },
  {
   "cell_type": "code",
   "execution_count": null,
   "id": "mobile-ceiling",
   "metadata": {},
   "outputs": [],
   "source": [
    "#Read in the empty data frame\n",
    "CollectData=pd.read_csv(\"../Data/CollectedData2.csv\")\n",
    "CollectData"
   ]
  },
  {
   "cell_type": "code",
   "execution_count": 3,
   "id": "downtown-postage",
   "metadata": {},
   "outputs": [
    {
     "data": {
      "text/html": [
       "<div>\n",
       "<style scoped>\n",
       "    .dataframe tbody tr th:only-of-type {\n",
       "        vertical-align: middle;\n",
       "    }\n",
       "\n",
       "    .dataframe tbody tr th {\n",
       "        vertical-align: top;\n",
       "    }\n",
       "\n",
       "    .dataframe thead th {\n",
       "        text-align: right;\n",
       "    }\n",
       "</style>\n",
       "<table border=\"1\" class=\"dataframe\">\n",
       "  <thead>\n",
       "    <tr style=\"text-align: right;\">\n",
       "      <th></th>\n",
       "      <th>index</th>\n",
       "      <th>period</th>\n",
       "      <th>org_code</th>\n",
       "      <th>attendances</th>\n",
       "      <th>breaches</th>\n",
       "      <th>performance</th>\n",
       "      <th>consent</th>\n",
       "    </tr>\n",
       "  </thead>\n",
       "  <tbody>\n",
       "    <tr>\n",
       "      <th>0</th>\n",
       "      <td>2826</td>\n",
       "      <td>2000-01-01</td>\n",
       "      <td>NA</td>\n",
       "      <td>0</td>\n",
       "      <td>0</td>\n",
       "      <td>0.0</td>\n",
       "      <td>False</td>\n",
       "    </tr>\n",
       "  </tbody>\n",
       "</table>\n",
       "</div>"
      ],
      "text/plain": [
       "   index     period org_code  attendances  breaches  performance  consent\n",
       "0   2826 2000-01-01       NA            0         0          0.0    False"
      ]
     },
     "execution_count": 3,
     "metadata": {},
     "output_type": "execute_result"
    }
   ],
   "source": [
    "#We have to use indexing to connect the test data to the original set. We have to change it for each record\n",
    "index_number=2826\n",
    "dfTofill.iloc[0,0]=index_number\n",
    "dfTofill"
   ]
  },
  {
   "cell_type": "code",
   "execution_count": 4,
   "id": "virtual-spare",
   "metadata": {},
   "outputs": [],
   "source": [
    "#To use the widgets we have to load the 'ipywidgets' package\n",
    "import ipywidgets as widgets"
   ]
  },
  {
   "cell_type": "code",
   "execution_count": 5,
   "id": "architectural-speed",
   "metadata": {},
   "outputs": [],
   "source": [
    "#To display the different objects (widgets) in Jupyter we have to load the 'IPython.display' package\n",
    "from IPython.display import display"
   ]
  },
  {
   "cell_type": "markdown",
   "id": "isolated-nudist",
   "metadata": {},
   "source": [
    "# Consent\n",
    "We need a widget that displays a boolean value (TRUE or FALSE)"
   ]
  },
  {
   "cell_type": "code",
   "execution_count": 6,
   "id": "monthly-michael",
   "metadata": {},
   "outputs": [
    {
     "data": {
      "application/vnd.jupyter.widget-view+json": {
       "model_id": "d625fabc09544bcd8096d1ac67ac19b9",
       "version_major": 2,
       "version_minor": 0
      },
      "text/plain": [
       "Checkbox(value=False, description='I consent for the data I have provided to be processed and shared in accord…"
      ]
     },
     "metadata": {},
     "output_type": "display_data"
    }
   ],
   "source": [
    "#For the consent variable we will use boolean widget (Checkbox widget) that is designed to display a boolean value (TRUE or FALSE)\n",
    "a = widgets.Checkbox(\n",
    "    value=False,\n",
    "    description='I consent for the data I have provided to be processed and shared in accordance with data protection regulations with the purpose of improving care service provision across the UK.',\n",
    "    disabled=False\n",
    ")\n",
    "display(a)"
   ]
  },
  {
   "cell_type": "code",
   "execution_count": null,
   "id": "waiting-patch",
   "metadata": {},
   "outputs": [],
   "source": [
    "#Fill in the 6th column (Python indexed) in the empty data frame\n",
    "dfTofill.iloc[0,6]=a.value\n",
    "dfTofill"
   ]
  },
  {
   "cell_type": "markdown",
   "id": "norman-northwest",
   "metadata": {},
   "source": [
    "# Period variable\n",
    "The data type of the period variable is string, character, We need a widget that displays a date format so we can update it for each record."
   ]
  },
  {
   "cell_type": "code",
   "execution_count": 7,
   "id": "general-truth",
   "metadata": {},
   "outputs": [
    {
     "data": {
      "application/vnd.jupyter.widget-view+json": {
       "model_id": "d04efc06b7a544ecb6863c75a931d8b1",
       "version_major": 2,
       "version_minor": 0
      },
      "text/plain": [
       "DatePicker(value=None, description='Period')"
      ]
     },
     "metadata": {},
     "output_type": "display_data"
    }
   ],
   "source": [
    "#The data type of the period variable is string, character so we set up a DatePicker widget to collect the period data \n",
    "b = widgets.DatePicker(\n",
    "    description='Period',\n",
    "    disabled=False\n",
    ")\n",
    "display(b)"
   ]
  },
  {
   "cell_type": "code",
   "execution_count": null,
   "id": "flying-miniature",
   "metadata": {},
   "outputs": [],
   "source": [
    "#Fill in the 1st column (Python indexed) in the empty data frame\n",
    "dfTofill.iloc[0,1]=b.value\n",
    "dfTofill"
   ]
  },
  {
   "cell_type": "markdown",
   "id": "electronic-reporter",
   "metadata": {},
   "source": [
    "# Organisation variable\n",
    "\n",
    "Data type is string, character. We need a widget that enables us to select the correct organisation code for each record."
   ]
  },
  {
   "cell_type": "code",
   "execution_count": 8,
   "id": "vietnamese-paint",
   "metadata": {},
   "outputs": [
    {
     "data": {
      "text/plain": [
       "['RGT', 'RM1', 'RRK', 'RJN', 'RNZ', 'RQ3', 'RBL', 'R1K', 'RPA', 'RA3', 'RDE']"
      ]
     },
     "execution_count": 8,
     "metadata": {},
     "output_type": "execute_result"
    }
   ],
   "source": [
    "# We must first use the pandas package unique() function to get the unique Organisation data service (ODS) codes in the test data.\n",
    "org_code=list(testData['org_code'].unique())\n",
    "org_code"
   ]
  },
  {
   "cell_type": "code",
   "execution_count": 9,
   "id": "electric-afghanistan",
   "metadata": {},
   "outputs": [
    {
     "data": {
      "application/vnd.jupyter.widget-view+json": {
       "model_id": "d8d997fdcf78422f9d23de0b6fdb99d0",
       "version_major": 2,
       "version_minor": 0
      },
      "text/plain": [
       "Select(description='ODS code:', options=('RGT', 'RM1', 'RRK', 'RJN', 'RNZ', 'RQ3', 'RBL', 'R1K', 'RPA', 'RA3',…"
      ]
     },
     "metadata": {},
     "output_type": "display_data"
    }
   ],
   "source": [
    "# To display single selection lists for the org_code variable we set up a selection widget\n",
    "c=widgets.Select(\n",
    "    options=org_code,\n",
    "    value='RGT',\n",
    "    rows=len(org_code),\n",
    "    description='ODS code:',\n",
    "    disabled=False\n",
    ")\n",
    "display(c)"
   ]
  },
  {
   "cell_type": "code",
   "execution_count": null,
   "id": "renewable-houston",
   "metadata": {},
   "outputs": [],
   "source": [
    "#Fill in the 2nd column (Python indexed) in the empty data frame\n",
    "dfTofill.iloc[0,2]=c.value\n",
    "dfTofill"
   ]
  },
  {
   "cell_type": "markdown",
   "id": "placed-affairs",
   "metadata": {},
   "source": [
    "# The attendances variable\n",
    "Data type is numeric, integer so we need a widget that displays numeric data and we can put in the correct number for this variable."
   ]
  },
  {
   "cell_type": "code",
   "execution_count": 10,
   "id": "asian-accused",
   "metadata": {},
   "outputs": [
    {
     "data": {
      "application/vnd.jupyter.widget-view+json": {
       "model_id": "6321b63150484db58402d66c6566e8c5",
       "version_major": 2,
       "version_minor": 0
      },
      "text/plain": [
       "IntText(value=0, description='Attendances:')"
      ]
     },
     "metadata": {},
     "output_type": "display_data"
    }
   ],
   "source": [
    "e=widgets.IntText(\n",
    "    value=0,\n",
    "    description='Attendances:',\n",
    "    disabled=False)\n",
    "display(e)"
   ]
  },
  {
   "cell_type": "code",
   "execution_count": null,
   "id": "romantic-papua",
   "metadata": {},
   "outputs": [],
   "source": [
    "#Fill in the 3th column (Python indexed) in the empty data frame\n",
    "dfTofill.iloc[0,3]=e.value\n",
    "dfTofill"
   ]
  },
  {
   "cell_type": "markdown",
   "id": "cheap-ideal",
   "metadata": {},
   "source": [
    "# The breaches variable\n",
    "Data type is numeric, integer so we need a widget that displays numeric data and we can put in the correct number for this variable."
   ]
  },
  {
   "cell_type": "code",
   "execution_count": 11,
   "id": "brief-pathology",
   "metadata": {},
   "outputs": [
    {
     "data": {
      "application/vnd.jupyter.widget-view+json": {
       "model_id": "823a124428cc471480c9d4020916966f",
       "version_major": 2,
       "version_minor": 0
      },
      "text/plain": [
       "IntText(value=0, description='Breaches:')"
      ]
     },
     "metadata": {},
     "output_type": "display_data"
    }
   ],
   "source": [
    "f=widgets.IntText(\n",
    "    value=0,\n",
    "    description='Breaches:',\n",
    "    disabled=False)\n",
    "display(f)"
   ]
  },
  {
   "cell_type": "code",
   "execution_count": null,
   "id": "monetary-sender",
   "metadata": {},
   "outputs": [],
   "source": [
    "#Fill in the 4th column (Python indexed) in the empty data frame\n",
    "dfTofill.iloc[0,4]=f.value\n",
    "dfTofill"
   ]
  },
  {
   "cell_type": "markdown",
   "id": "prerequisite-uzbekistan",
   "metadata": {},
   "source": [
    "# The performance variable\n",
    "Data type is numeric, float so we need a widget that displays numeric, float data and we can put in the correct number for this variable."
   ]
  },
  {
   "cell_type": "code",
   "execution_count": 12,
   "id": "identical-cross",
   "metadata": {},
   "outputs": [
    {
     "data": {
      "application/vnd.jupyter.widget-view+json": {
       "model_id": "81f72006edf8480ea1c40ce6851e8c00",
       "version_major": 2,
       "version_minor": 0
      },
      "text/plain": [
       "FloatText(value=0.0, description='Performance:')"
      ]
     },
     "metadata": {},
     "output_type": "display_data"
    }
   ],
   "source": [
    "h=widgets.FloatText(\n",
    "    value=0.0,\n",
    "    description='Performance:',\n",
    "    disabled=False\n",
    ")\n",
    "display(h)"
   ]
  },
  {
   "cell_type": "code",
   "execution_count": null,
   "id": "similar-communist",
   "metadata": {},
   "outputs": [],
   "source": [
    "#Fill in the 5th column (Python indexed) in the empty data frame\n",
    "dfTofill.iloc[0,5]=h.value\n",
    "dfTofill"
   ]
  },
  {
   "cell_type": "markdown",
   "id": "determined-turner",
   "metadata": {},
   "source": [
    "# Concatenating the collected data to the CollectData data frame.   \n",
    "To fill in the rows in the empty data frame"
   ]
  },
  {
   "cell_type": "code",
   "execution_count": null,
   "id": "fuzzy-worry",
   "metadata": {},
   "outputs": [],
   "source": [
    "#We need use the `concat()` function from the Python *pandas* package to append the CollectData and dfTofill data frames. The concat() function is used to concatenate *pandas* objects.\n",
    "# CollectData is the first data frame\n",
    "# dfTofill is the second data frame\n",
    "CollectData  = pd.concat([CollectData, dfTofill])\n",
    "display(CollectData)"
   ]
  },
  {
   "cell_type": "code",
   "execution_count": null,
   "id": "waiting-replication",
   "metadata": {},
   "outputs": [],
   "source": [
    "#collect only the data that we have consent to do\n",
    "CollectData=CollectData[CollectData['consent'] == True]\n",
    "display(CollectData)"
   ]
  },
  {
   "cell_type": "markdown",
   "id": "indian-incidence",
   "metadata": {},
   "source": [
    "# Saving the CollectData data frame\n"
   ]
  },
  {
   "cell_type": "code",
   "execution_count": null,
   "id": "entertaining-jordan",
   "metadata": {},
   "outputs": [],
   "source": [
    "#Saving the data collected by your data-capture tool to the working Data folder:\n",
    "CollectData.to_csv('../Data/CollectedData.csv', index=False)"
   ]
  },
  {
   "cell_type": "code",
   "execution_count": null,
   "id": "familiar-kenya",
   "metadata": {},
   "outputs": [],
   "source": [
    "#Saving the data collected by your data-capture tool to the working Raw folder:\n",
    "CollectData.to_csv('../RawData/CollectedDataFinal.csv', index=False)"
   ]
  },
  {
   "cell_type": "markdown",
   "id": "completed-pastor",
   "metadata": {},
   "source": [
    "<br>\n",
    "<br>\n",
    "<br>\n",
    "\n",
    "# The user interface for your data collection tool"
   ]
  },
  {
   "cell_type": "markdown",
   "id": "promising-teens",
   "metadata": {},
   "source": [
    "## The Box widget\n",
    "The Box widget enables rich reactive layouts in the Jupyter Notebook. It aims at providing an efficient way to lay out, align and distribute space among your widgets in a box. The HBox (Horizontal layout) and VBox (vertical layout) classes above are special cases of the Box widget.\n",
    "\n",
    "<br>\n",
    "\n",
    "### Create a reactive form for end-user\n",
    "Let’s use the VBox widget to create a reactive form for our end-user. The form itself, and each row in the form is a Box widget.\n",
    "\n",
    "<br>"
   ]
  },
  {
   "cell_type": "code",
   "execution_count": 1,
   "id": "foreign-trash",
   "metadata": {},
   "outputs": [
    {
     "ename": "NameError",
     "evalue": "name 'widgets' is not defined",
     "output_type": "error",
     "traceback": [
      "\u001b[0;31m---------------------------------------------------------------------------\u001b[0m",
      "\u001b[0;31mNameError\u001b[0m                                 Traceback (most recent call last)",
      "\u001b[0;32m/tmp/ipykernel_30/4279006082.py\u001b[0m in \u001b[0;36m<module>\u001b[0;34m\u001b[0m\n\u001b[1;32m      1\u001b[0m \u001b[0;31m#form=widgets.VBox([a,b,c,d,e,f,g,h])\u001b[0m\u001b[0;34m\u001b[0m\u001b[0;34m\u001b[0m\u001b[0;34m\u001b[0m\u001b[0m\n\u001b[0;32m----> 2\u001b[0;31m \u001b[0mform\u001b[0m\u001b[0;34m=\u001b[0m\u001b[0mwidgets\u001b[0m\u001b[0;34m.\u001b[0m\u001b[0mVBox\u001b[0m\u001b[0;34m(\u001b[0m\u001b[0;34m[\u001b[0m\u001b[0ma\u001b[0m\u001b[0;34m,\u001b[0m\u001b[0mb\u001b[0m\u001b[0;34m,\u001b[0m\u001b[0mc\u001b[0m\u001b[0;34m,\u001b[0m\u001b[0me\u001b[0m\u001b[0;34m,\u001b[0m\u001b[0mf\u001b[0m\u001b[0;34m,\u001b[0m\u001b[0mh\u001b[0m\u001b[0;34m]\u001b[0m\u001b[0;34m)\u001b[0m\u001b[0;34m\u001b[0m\u001b[0;34m\u001b[0m\u001b[0m\n\u001b[0m",
      "\u001b[0;31mNameError\u001b[0m: name 'widgets' is not defined"
     ]
    }
   ],
   "source": [
    "#form=widgets.VBox([a,b,c,d,e,f,g,h])\n",
    "form=widgets.VBox([a,b,c,e,f,h])"
   ]
  },
  {
   "cell_type": "markdown",
   "id": "intermediate-weather",
   "metadata": {},
   "source": [
    "# Our commitment to a maximum four-hour accident and emergency wait \n",
    "\n",
    "\n",
    "The four-hour accident and emergency waiting time target is a pledge set out in our ['Handbook to the NHS Constitution'](https://eu01.alma.exlibrisgroup.com/leganto/public/44UOE_INST/citation/37819402820002466?auth=SAML). \n",
    "Our operational standard is that at least 95% of patients attending A&E should be admitted, transferred, or discharged within four hours.[(The UK Government, 2022)](https://eu01.alma.exlibrisgroup.com/leganto/public/44UOE_INST/citation/37819402820002466?auth=SAML) This standard applies to all areas of emergency care, including attendances in trolleyed areas of an Assessment Unit as well as Emergency Departments and minor injury units. For service users that require admission to A&E, the time they wait between the doctor deciding that they should be admitted for treatment and the patient arriving on the ward is an important measure of safety. The Royal College of Emergency Medicine estimated that overcrowding and extreme delays led to 4,519 excess deaths in England in 2020/21.  In March 2022, 136,297 patients waited over four hours from decision to admission, 27% of all patients. [(The Nuffield Trust, 2022)](https://eu01.alma.exlibrisgroup.com/leganto/public/44UOE_INST/citation/37819506800002466?auth=SAML)\n",
    "\n",
    "To keep our service users and NHS England safe by ensuring A&E departments provide the fastest and most appropriate care for service users as and when they need it. We need your monthly data on the number of attendances and breaches over time to make available to your and other service managers to set as a benchmark against which to assess and improve your department’s performance against the 4-hour standard. We would be very grateful if you could take one minute each month to share your data with us in the form below:"
   ]
  },
  {
   "cell_type": "code",
   "execution_count": 14,
   "id": "amazing-arena",
   "metadata": {},
   "outputs": [
    {
     "data": {
      "application/vnd.jupyter.widget-view+json": {
       "model_id": "0896702d1c544190a4cfe94ee319f3f4",
       "version_major": 2,
       "version_minor": 0
      },
      "text/plain": [
       "VBox(children=(Checkbox(value=False, description='I consent for the data I have provided to be processed and s…"
      ]
     },
     "metadata": {},
     "output_type": "display_data"
    }
   ],
   "source": [
    "display(form)\n"
   ]
  },
  {
   "cell_type": "markdown",
   "id": "other-investment",
   "metadata": {},
   "source": [
    "Thank you for sharing your data, and giving us your consent to process and share it with other service management teams across England. We will add your data to our [open data resource](https://github.com/B111333/B111333WorkingWithDataTypesAndStructuresInPythonandR_Assessment) for you to use now or in the futures as a benchmark against which to assess and improve your department’s performance against the 4-hour standard. "
   ]
  },
  {
   "cell_type": "markdown",
   "id": "friendly-civilization",
   "metadata": {},
   "source": [
    "VBox(children=(Checkbox(value=False, description='I consent for the data I have provided to be processed and s…"
   ]
  }
 ],
 "metadata": {
  "kernelspec": {
   "display_name": "Python 3 (ipykernel)",
   "language": "python",
   "name": "python3"
  },
  "language_info": {
   "codemirror_mode": {
    "name": "ipython",
    "version": 3
   },
   "file_extension": ".py",
   "mimetype": "text/x-python",
   "name": "python",
   "nbconvert_exporter": "python",
   "pygments_lexer": "ipython3",
   "version": "3.9.2"
  }
 },
 "nbformat": 4,
 "nbformat_minor": 5
}
